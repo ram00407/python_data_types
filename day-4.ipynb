{
 "cells": [
  {
   "cell_type": "code",
   "execution_count": 1,
   "id": "b65bc64c",
   "metadata": {},
   "outputs": [
    {
     "data": {
      "text/plain": [
       "{1: 2, 3: 4, 5: 6}"
      ]
     },
     "execution_count": 1,
     "metadata": {},
     "output_type": "execute_result"
    }
   ],
   "source": [
    "d={1: 2,3: 4,5: 6}\n",
    "d"
   ]
  },
  {
   "cell_type": "code",
   "execution_count": 2,
   "id": "c3a500c6",
   "metadata": {},
   "outputs": [
    {
     "data": {
      "text/plain": [
       "dict"
      ]
     },
     "execution_count": 2,
     "metadata": {},
     "output_type": "execute_result"
    }
   ],
   "source": [
    "type(d)"
   ]
  },
  {
   "cell_type": "code",
   "execution_count": 15,
   "id": "a455a85d",
   "metadata": {},
   "outputs": [
    {
     "data": {
      "text/plain": [
       "{8: 5, 'A': 10, 55: 66}"
      ]
     },
     "execution_count": 15,
     "metadata": {},
     "output_type": "execute_result"
    }
   ],
   "source": [
    "d={8: 5, 'A':10, 55: 66}\n",
    "d"
   ]
  },
  {
   "cell_type": "code",
   "execution_count": 16,
   "id": "68cbfc1a",
   "metadata": {},
   "outputs": [
    {
     "data": {
      "text/plain": [
       "10"
      ]
     },
     "execution_count": 16,
     "metadata": {},
     "output_type": "execute_result"
    }
   ],
   "source": [
    "d['A']"
   ]
  },
  {
   "cell_type": "code",
   "execution_count": 17,
   "id": "2fa04e0f",
   "metadata": {},
   "outputs": [
    {
     "data": {
      "text/plain": [
       "5"
      ]
     },
     "execution_count": 17,
     "metadata": {},
     "output_type": "execute_result"
    }
   ],
   "source": [
    "d[8]"
   ]
  },
  {
   "cell_type": "code",
   "execution_count": 18,
   "id": "b5c7d52c",
   "metadata": {},
   "outputs": [],
   "source": [
    "d[8]=6 #dictionaries doesn't allow duplicate key"
   ]
  },
  {
   "cell_type": "code",
   "execution_count": 19,
   "id": "f4389de1",
   "metadata": {},
   "outputs": [
    {
     "data": {
      "text/plain": [
       "{8: 6, 'A': 10, 55: 66}"
      ]
     },
     "execution_count": 19,
     "metadata": {},
     "output_type": "execute_result"
    }
   ],
   "source": [
    "d"
   ]
  },
  {
   "cell_type": "code",
   "execution_count": 20,
   "id": "cba31de4",
   "metadata": {},
   "outputs": [],
   "source": [
    "d.update({8:20})"
   ]
  },
  {
   "cell_type": "code",
   "execution_count": 21,
   "id": "16857baf",
   "metadata": {},
   "outputs": [
    {
     "data": {
      "text/plain": [
       "{8: 20, 'A': 10, 55: 66}"
      ]
     },
     "execution_count": 21,
     "metadata": {},
     "output_type": "execute_result"
    }
   ],
   "source": [
    "d"
   ]
  },
  {
   "cell_type": "code",
   "execution_count": 22,
   "id": "1bb34fea",
   "metadata": {},
   "outputs": [
    {
     "data": {
      "text/plain": [
       "20"
      ]
     },
     "execution_count": 22,
     "metadata": {},
     "output_type": "execute_result"
    }
   ],
   "source": [
    "d.get(8)"
   ]
  },
  {
   "cell_type": "code",
   "execution_count": 24,
   "id": "3e1cc9a1",
   "metadata": {},
   "outputs": [],
   "source": [
    "d.update({8:'India'})"
   ]
  },
  {
   "cell_type": "code",
   "execution_count": 25,
   "id": "cdf4f0e9",
   "metadata": {},
   "outputs": [
    {
     "data": {
      "text/plain": [
       "{8: 'India', 'A': 10, 55: 66}"
      ]
     },
     "execution_count": 25,
     "metadata": {},
     "output_type": "execute_result"
    }
   ],
   "source": [
    "d"
   ]
  },
  {
   "cell_type": "code",
   "execution_count": 26,
   "id": "855fdac8",
   "metadata": {},
   "outputs": [],
   "source": [
    "del d[8]"
   ]
  },
  {
   "cell_type": "code",
   "execution_count": 27,
   "id": "97505b43",
   "metadata": {},
   "outputs": [
    {
     "data": {
      "text/plain": [
       "{'A': 10, 55: 66}"
      ]
     },
     "execution_count": 27,
     "metadata": {},
     "output_type": "execute_result"
    }
   ],
   "source": [
    "d"
   ]
  },
  {
   "cell_type": "code",
   "execution_count": 28,
   "id": "77b79060",
   "metadata": {},
   "outputs": [
    {
     "data": {
      "text/plain": [
       "dict_values([10, 66])"
      ]
     },
     "execution_count": 28,
     "metadata": {},
     "output_type": "execute_result"
    }
   ],
   "source": [
    "d.values()"
   ]
  },
  {
   "cell_type": "code",
   "execution_count": 29,
   "id": "79774a60",
   "metadata": {},
   "outputs": [
    {
     "data": {
      "text/plain": [
       "dict_keys(['A', 55])"
      ]
     },
     "execution_count": 29,
     "metadata": {},
     "output_type": "execute_result"
    }
   ],
   "source": [
    "d.keys()"
   ]
  },
  {
   "cell_type": "code",
   "execution_count": 30,
   "id": "5feafc43",
   "metadata": {},
   "outputs": [
    {
     "data": {
      "text/plain": [
       "dict_items([('A', 10), (55, 66)])"
      ]
     },
     "execution_count": 30,
     "metadata": {},
     "output_type": "execute_result"
    }
   ],
   "source": [
    "d.items()"
   ]
  },
  {
   "cell_type": "code",
   "execution_count": 31,
   "id": "857de043",
   "metadata": {},
   "outputs": [],
   "source": [
    "d[30]= [91, 92,93] "
   ]
  },
  {
   "cell_type": "code",
   "execution_count": 32,
   "id": "a1ff0885",
   "metadata": {},
   "outputs": [
    {
     "data": {
      "text/plain": [
       "{'A': 10, 55: 66, 30: [91, 92, 93]}"
      ]
     },
     "execution_count": 32,
     "metadata": {},
     "output_type": "execute_result"
    }
   ],
   "source": [
    "d"
   ]
  },
  {
   "cell_type": "code",
   "execution_count": 33,
   "id": "0abed1b6",
   "metadata": {},
   "outputs": [
    {
     "data": {
      "text/plain": [
       "list"
      ]
     },
     "execution_count": 33,
     "metadata": {},
     "output_type": "execute_result"
    }
   ],
   "source": [
    "type(d[30])"
   ]
  },
  {
   "cell_type": "code",
   "execution_count": 34,
   "id": "f2f634c9",
   "metadata": {},
   "outputs": [
    {
     "data": {
      "text/plain": [
       "int"
      ]
     },
     "execution_count": 34,
     "metadata": {},
     "output_type": "execute_result"
    }
   ],
   "source": [
    "type(d['A'])"
   ]
  },
  {
   "cell_type": "code",
   "execution_count": 35,
   "id": "8a2901fc",
   "metadata": {},
   "outputs": [],
   "source": [
    "d.update({8:'India'})"
   ]
  },
  {
   "cell_type": "code",
   "execution_count": 36,
   "id": "f3190ffc",
   "metadata": {},
   "outputs": [
    {
     "data": {
      "text/plain": [
       "{'A': 10, 55: 66, 30: [91, 92, 93], 8: 'India'}"
      ]
     },
     "execution_count": 36,
     "metadata": {},
     "output_type": "execute_result"
    }
   ],
   "source": [
    "d"
   ]
  },
  {
   "cell_type": "code",
   "execution_count": 37,
   "id": "db3521c2",
   "metadata": {},
   "outputs": [
    {
     "data": {
      "text/plain": [
       "str"
      ]
     },
     "execution_count": 37,
     "metadata": {},
     "output_type": "execute_result"
    }
   ],
   "source": [
    "type(d[8])"
   ]
  },
  {
   "cell_type": "code",
   "execution_count": 38,
   "id": "ab761b1a",
   "metadata": {},
   "outputs": [],
   "source": [
    "d[30].append(94)"
   ]
  },
  {
   "cell_type": "code",
   "execution_count": 39,
   "id": "98835580",
   "metadata": {},
   "outputs": [
    {
     "data": {
      "text/plain": [
       "{'A': 10, 55: 66, 30: [91, 92, 93, 94], 8: 'India'}"
      ]
     },
     "execution_count": 39,
     "metadata": {},
     "output_type": "execute_result"
    }
   ],
   "source": [
    "d"
   ]
  },
  {
   "cell_type": "code",
   "execution_count": null,
   "id": "81a5fbca",
   "metadata": {},
   "outputs": [],
   "source": []
  }
 ],
 "metadata": {
  "kernelspec": {
   "display_name": "Python 3 (ipykernel)",
   "language": "python",
   "name": "python3"
  },
  "language_info": {
   "codemirror_mode": {
    "name": "ipython",
    "version": 3
   },
   "file_extension": ".py",
   "mimetype": "text/x-python",
   "name": "python",
   "nbconvert_exporter": "python",
   "pygments_lexer": "ipython3",
   "version": "3.11.5"
  }
 },
 "nbformat": 4,
 "nbformat_minor": 5
}
